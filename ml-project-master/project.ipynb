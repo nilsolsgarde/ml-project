{
 "cells": [
  {
   "cell_type": "code",
   "execution_count": 137,
   "metadata": {},
   "outputs": [],
   "source": [
    "import numpy as np\n",
    "import pandas as pd\n",
    "import statsmodels.api as sm\n",
    "import matplotlib.pyplot as plt\n",
    "import seaborn as sns\n",
    "\n",
    "from sklearn.model_selection import train_test_split\n",
    "from sklearn.discriminant_analysis import LinearDiscriminantAnalysis as LDA\n",
    "from sklearn.discriminant_analysis import QuadraticDiscriminantAnalysis as QDA\n",
    "from sklearn.linear_model import LogisticRegression\n",
    "from sklearn.neighbors import KNeighborsClassifier\n",
    "from sklearn.metrics import accuracy_score\n",
    "from sklearn.metrics import confusion_matrix\n",
    "\n",
    "df = pd.read_csv(\"project_train.csv\")"
   ]
  },
  {
   "cell_type": "code",
   "execution_count": 138,
   "metadata": {},
   "outputs": [
    {
     "data": {
      "text/html": [
       "<div>\n",
       "<style scoped>\n",
       "    .dataframe tbody tr th:only-of-type {\n",
       "        vertical-align: middle;\n",
       "    }\n",
       "\n",
       "    .dataframe tbody tr th {\n",
       "        vertical-align: top;\n",
       "    }\n",
       "\n",
       "    .dataframe thead th {\n",
       "        text-align: right;\n",
       "    }\n",
       "</style>\n",
       "<table border=\"1\" class=\"dataframe\">\n",
       "  <thead>\n",
       "    <tr style=\"text-align: right;\">\n",
       "      <th></th>\n",
       "      <th>danceability</th>\n",
       "      <th>energy</th>\n",
       "      <th>key</th>\n",
       "      <th>loudness</th>\n",
       "      <th>mode</th>\n",
       "      <th>speechiness</th>\n",
       "      <th>acousticness</th>\n",
       "      <th>instrumentalness</th>\n",
       "      <th>liveness</th>\n",
       "      <th>valence</th>\n",
       "      <th>tempo</th>\n",
       "      <th>Label</th>\n",
       "    </tr>\n",
       "  </thead>\n",
       "  <tbody>\n",
       "    <tr>\n",
       "      <th>0</th>\n",
       "      <td>0.545</td>\n",
       "      <td>0.884</td>\n",
       "      <td>5</td>\n",
       "      <td>-4.807</td>\n",
       "      <td>0</td>\n",
       "      <td>0.3670</td>\n",
       "      <td>0.290000</td>\n",
       "      <td>0.000000</td>\n",
       "      <td>0.3700</td>\n",
       "      <td>0.641</td>\n",
       "      <td>86.049</td>\n",
       "      <td>1</td>\n",
       "    </tr>\n",
       "    <tr>\n",
       "      <th>1</th>\n",
       "      <td>0.795</td>\n",
       "      <td>0.545</td>\n",
       "      <td>7</td>\n",
       "      <td>-8.153</td>\n",
       "      <td>1</td>\n",
       "      <td>0.3430</td>\n",
       "      <td>0.003960</td>\n",
       "      <td>0.000000</td>\n",
       "      <td>0.2730</td>\n",
       "      <td>0.809</td>\n",
       "      <td>91.967</td>\n",
       "      <td>1</td>\n",
       "    </tr>\n",
       "    <tr>\n",
       "      <th>2</th>\n",
       "      <td>0.489</td>\n",
       "      <td>0.871</td>\n",
       "      <td>5</td>\n",
       "      <td>-5.825</td>\n",
       "      <td>1</td>\n",
       "      <td>0.3860</td>\n",
       "      <td>0.002850</td>\n",
       "      <td>0.000004</td>\n",
       "      <td>0.1300</td>\n",
       "      <td>0.341</td>\n",
       "      <td>117.431</td>\n",
       "      <td>1</td>\n",
       "    </tr>\n",
       "    <tr>\n",
       "      <th>3</th>\n",
       "      <td>0.539</td>\n",
       "      <td>0.931</td>\n",
       "      <td>4</td>\n",
       "      <td>-1.803</td>\n",
       "      <td>0</td>\n",
       "      <td>0.2620</td>\n",
       "      <td>0.000713</td>\n",
       "      <td>0.000000</td>\n",
       "      <td>0.2040</td>\n",
       "      <td>0.685</td>\n",
       "      <td>85.571</td>\n",
       "      <td>0</td>\n",
       "    </tr>\n",
       "    <tr>\n",
       "      <th>4</th>\n",
       "      <td>0.918</td>\n",
       "      <td>0.734</td>\n",
       "      <td>11</td>\n",
       "      <td>-2.832</td>\n",
       "      <td>0</td>\n",
       "      <td>0.2690</td>\n",
       "      <td>0.029400</td>\n",
       "      <td>0.000008</td>\n",
       "      <td>0.1910</td>\n",
       "      <td>0.608</td>\n",
       "      <td>97.044</td>\n",
       "      <td>1</td>\n",
       "    </tr>\n",
       "    <tr>\n",
       "      <th>...</th>\n",
       "      <td>...</td>\n",
       "      <td>...</td>\n",
       "      <td>...</td>\n",
       "      <td>...</td>\n",
       "      <td>...</td>\n",
       "      <td>...</td>\n",
       "      <td>...</td>\n",
       "      <td>...</td>\n",
       "      <td>...</td>\n",
       "      <td>...</td>\n",
       "      <td>...</td>\n",
       "      <td>...</td>\n",
       "    </tr>\n",
       "    <tr>\n",
       "      <th>478</th>\n",
       "      <td>0.580</td>\n",
       "      <td>0.729</td>\n",
       "      <td>4</td>\n",
       "      <td>-6.705</td>\n",
       "      <td>0</td>\n",
       "      <td>0.0287</td>\n",
       "      <td>0.010200</td>\n",
       "      <td>0.000000</td>\n",
       "      <td>0.0805</td>\n",
       "      <td>0.483</td>\n",
       "      <td>80.061</td>\n",
       "      <td>0</td>\n",
       "    </tr>\n",
       "    <tr>\n",
       "      <th>479</th>\n",
       "      <td>0.738</td>\n",
       "      <td>0.750</td>\n",
       "      <td>2</td>\n",
       "      <td>-5.034</td>\n",
       "      <td>0</td>\n",
       "      <td>0.1350</td>\n",
       "      <td>0.032300</td>\n",
       "      <td>0.000000</td>\n",
       "      <td>0.1020</td>\n",
       "      <td>0.801</td>\n",
       "      <td>96.112</td>\n",
       "      <td>0</td>\n",
       "    </tr>\n",
       "    <tr>\n",
       "      <th>480</th>\n",
       "      <td>0.627</td>\n",
       "      <td>0.583</td>\n",
       "      <td>5</td>\n",
       "      <td>-6.746</td>\n",
       "      <td>0</td>\n",
       "      <td>0.0366</td>\n",
       "      <td>0.327000</td>\n",
       "      <td>0.000000</td>\n",
       "      <td>0.1420</td>\n",
       "      <td>0.299</td>\n",
       "      <td>129.674</td>\n",
       "      <td>0</td>\n",
       "    </tr>\n",
       "    <tr>\n",
       "      <th>481</th>\n",
       "      <td>0.446</td>\n",
       "      <td>0.468</td>\n",
       "      <td>11</td>\n",
       "      <td>-9.844</td>\n",
       "      <td>1</td>\n",
       "      <td>0.0323</td>\n",
       "      <td>0.235000</td>\n",
       "      <td>0.000000</td>\n",
       "      <td>0.0963</td>\n",
       "      <td>0.223</td>\n",
       "      <td>169.983</td>\n",
       "      <td>0</td>\n",
       "    </tr>\n",
       "    <tr>\n",
       "      <th>482</th>\n",
       "      <td>0.693</td>\n",
       "      <td>0.666</td>\n",
       "      <td>10</td>\n",
       "      <td>-6.347</td>\n",
       "      <td>0</td>\n",
       "      <td>0.0422</td>\n",
       "      <td>0.004020</td>\n",
       "      <td>0.000000</td>\n",
       "      <td>0.0980</td>\n",
       "      <td>0.651</td>\n",
       "      <td>92.015</td>\n",
       "      <td>0</td>\n",
       "    </tr>\n",
       "  </tbody>\n",
       "</table>\n",
       "<p>483 rows × 12 columns</p>\n",
       "</div>"
      ],
      "text/plain": [
       "     danceability  energy  key  loudness  mode  speechiness  acousticness  \\\n",
       "0           0.545   0.884    5    -4.807     0       0.3670      0.290000   \n",
       "1           0.795   0.545    7    -8.153     1       0.3430      0.003960   \n",
       "2           0.489   0.871    5    -5.825     1       0.3860      0.002850   \n",
       "3           0.539   0.931    4    -1.803     0       0.2620      0.000713   \n",
       "4           0.918   0.734   11    -2.832     0       0.2690      0.029400   \n",
       "..            ...     ...  ...       ...   ...          ...           ...   \n",
       "478         0.580   0.729    4    -6.705     0       0.0287      0.010200   \n",
       "479         0.738   0.750    2    -5.034     0       0.1350      0.032300   \n",
       "480         0.627   0.583    5    -6.746     0       0.0366      0.327000   \n",
       "481         0.446   0.468   11    -9.844     1       0.0323      0.235000   \n",
       "482         0.693   0.666   10    -6.347     0       0.0422      0.004020   \n",
       "\n",
       "     instrumentalness  liveness  valence    tempo  Label  \n",
       "0            0.000000    0.3700    0.641   86.049      1  \n",
       "1            0.000000    0.2730    0.809   91.967      1  \n",
       "2            0.000004    0.1300    0.341  117.431      1  \n",
       "3            0.000000    0.2040    0.685   85.571      0  \n",
       "4            0.000008    0.1910    0.608   97.044      1  \n",
       "..                ...       ...      ...      ...    ...  \n",
       "478          0.000000    0.0805    0.483   80.061      0  \n",
       "479          0.000000    0.1020    0.801   96.112      0  \n",
       "480          0.000000    0.1420    0.299  129.674      0  \n",
       "481          0.000000    0.0963    0.223  169.983      0  \n",
       "482          0.000000    0.0980    0.651   92.015      0  \n",
       "\n",
       "[483 rows x 12 columns]"
      ]
     },
     "execution_count": 138,
     "metadata": {},
     "output_type": "execute_result"
    }
   ],
   "source": [
    "pd.set_option('display.max_rows', 10)\n",
    "df"
   ]
  },
  {
   "cell_type": "code",
   "execution_count": 139,
   "metadata": {},
   "outputs": [
    {
     "data": {
      "text/html": [
       "<div>\n",
       "<style scoped>\n",
       "    .dataframe tbody tr th:only-of-type {\n",
       "        vertical-align: middle;\n",
       "    }\n",
       "\n",
       "    .dataframe tbody tr th {\n",
       "        vertical-align: top;\n",
       "    }\n",
       "\n",
       "    .dataframe thead th {\n",
       "        text-align: right;\n",
       "    }\n",
       "</style>\n",
       "<table border=\"1\" class=\"dataframe\">\n",
       "  <thead>\n",
       "    <tr style=\"text-align: right;\">\n",
       "      <th></th>\n",
       "      <th>danceability</th>\n",
       "      <th>energy</th>\n",
       "      <th>key</th>\n",
       "      <th>loudness</th>\n",
       "      <th>mode</th>\n",
       "      <th>speechiness</th>\n",
       "      <th>acousticness</th>\n",
       "      <th>instrumentalness</th>\n",
       "      <th>liveness</th>\n",
       "      <th>valence</th>\n",
       "      <th>tempo</th>\n",
       "      <th>Label</th>\n",
       "    </tr>\n",
       "  </thead>\n",
       "  <tbody>\n",
       "    <tr>\n",
       "      <th>count</th>\n",
       "      <td>241.000000</td>\n",
       "      <td>241.000000</td>\n",
       "      <td>241.000000</td>\n",
       "      <td>241.000000</td>\n",
       "      <td>241.000000</td>\n",
       "      <td>241.000000</td>\n",
       "      <td>241.000000</td>\n",
       "      <td>241.000000</td>\n",
       "      <td>241.000000</td>\n",
       "      <td>241.000000</td>\n",
       "      <td>241.000000</td>\n",
       "      <td>241.0</td>\n",
       "    </tr>\n",
       "    <tr>\n",
       "      <th>mean</th>\n",
       "      <td>0.627129</td>\n",
       "      <td>0.749610</td>\n",
       "      <td>5.377593</td>\n",
       "      <td>-5.823021</td>\n",
       "      <td>0.605809</td>\n",
       "      <td>0.086618</td>\n",
       "      <td>0.171855</td>\n",
       "      <td>0.043325</td>\n",
       "      <td>0.236708</td>\n",
       "      <td>0.588251</td>\n",
       "      <td>119.238618</td>\n",
       "      <td>0.0</td>\n",
       "    </tr>\n",
       "    <tr>\n",
       "      <th>std</th>\n",
       "      <td>0.145869</td>\n",
       "      <td>0.177961</td>\n",
       "      <td>3.586223</td>\n",
       "      <td>2.825303</td>\n",
       "      <td>0.489693</td>\n",
       "      <td>0.101674</td>\n",
       "      <td>0.221701</td>\n",
       "      <td>0.163325</td>\n",
       "      <td>0.229615</td>\n",
       "      <td>0.244225</td>\n",
       "      <td>22.744253</td>\n",
       "      <td>0.0</td>\n",
       "    </tr>\n",
       "    <tr>\n",
       "      <th>min</th>\n",
       "      <td>0.129000</td>\n",
       "      <td>0.086900</td>\n",
       "      <td>0.000000</td>\n",
       "      <td>-25.170000</td>\n",
       "      <td>0.000000</td>\n",
       "      <td>0.022600</td>\n",
       "      <td>0.000080</td>\n",
       "      <td>0.000000</td>\n",
       "      <td>0.036800</td>\n",
       "      <td>0.024200</td>\n",
       "      <td>59.972000</td>\n",
       "      <td>0.0</td>\n",
       "    </tr>\n",
       "    <tr>\n",
       "      <th>25%</th>\n",
       "      <td>0.539000</td>\n",
       "      <td>0.662000</td>\n",
       "      <td>2.000000</td>\n",
       "      <td>-6.746000</td>\n",
       "      <td>0.000000</td>\n",
       "      <td>0.034000</td>\n",
       "      <td>0.022800</td>\n",
       "      <td>0.000000</td>\n",
       "      <td>0.088900</td>\n",
       "      <td>0.389000</td>\n",
       "      <td>103.051000</td>\n",
       "      <td>0.0</td>\n",
       "    </tr>\n",
       "    <tr>\n",
       "      <th>50%</th>\n",
       "      <td>0.648000</td>\n",
       "      <td>0.785000</td>\n",
       "      <td>6.000000</td>\n",
       "      <td>-5.363000</td>\n",
       "      <td>1.000000</td>\n",
       "      <td>0.045900</td>\n",
       "      <td>0.083800</td>\n",
       "      <td>0.000003</td>\n",
       "      <td>0.142000</td>\n",
       "      <td>0.602000</td>\n",
       "      <td>123.975000</td>\n",
       "      <td>0.0</td>\n",
       "    </tr>\n",
       "    <tr>\n",
       "      <th>75%</th>\n",
       "      <td>0.730000</td>\n",
       "      <td>0.883000</td>\n",
       "      <td>9.000000</td>\n",
       "      <td>-4.288000</td>\n",
       "      <td>1.000000</td>\n",
       "      <td>0.097000</td>\n",
       "      <td>0.231000</td>\n",
       "      <td>0.000234</td>\n",
       "      <td>0.299000</td>\n",
       "      <td>0.801000</td>\n",
       "      <td>130.008000</td>\n",
       "      <td>0.0</td>\n",
       "    </tr>\n",
       "    <tr>\n",
       "      <th>max</th>\n",
       "      <td>0.940000</td>\n",
       "      <td>0.991000</td>\n",
       "      <td>11.000000</td>\n",
       "      <td>4.331000</td>\n",
       "      <td>1.000000</td>\n",
       "      <td>0.925000</td>\n",
       "      <td>0.993000</td>\n",
       "      <td>0.985000</td>\n",
       "      <td>0.992000</td>\n",
       "      <td>0.969000</td>\n",
       "      <td>192.754000</td>\n",
       "      <td>0.0</td>\n",
       "    </tr>\n",
       "  </tbody>\n",
       "</table>\n",
       "</div>"
      ],
      "text/plain": [
       "       danceability      energy         key    loudness        mode  \\\n",
       "count    241.000000  241.000000  241.000000  241.000000  241.000000   \n",
       "mean       0.627129    0.749610    5.377593   -5.823021    0.605809   \n",
       "std        0.145869    0.177961    3.586223    2.825303    0.489693   \n",
       "min        0.129000    0.086900    0.000000  -25.170000    0.000000   \n",
       "25%        0.539000    0.662000    2.000000   -6.746000    0.000000   \n",
       "50%        0.648000    0.785000    6.000000   -5.363000    1.000000   \n",
       "75%        0.730000    0.883000    9.000000   -4.288000    1.000000   \n",
       "max        0.940000    0.991000   11.000000    4.331000    1.000000   \n",
       "\n",
       "       speechiness  acousticness  instrumentalness    liveness     valence  \\\n",
       "count   241.000000    241.000000        241.000000  241.000000  241.000000   \n",
       "mean      0.086618      0.171855          0.043325    0.236708    0.588251   \n",
       "std       0.101674      0.221701          0.163325    0.229615    0.244225   \n",
       "min       0.022600      0.000080          0.000000    0.036800    0.024200   \n",
       "25%       0.034000      0.022800          0.000000    0.088900    0.389000   \n",
       "50%       0.045900      0.083800          0.000003    0.142000    0.602000   \n",
       "75%       0.097000      0.231000          0.000234    0.299000    0.801000   \n",
       "max       0.925000      0.993000          0.985000    0.992000    0.969000   \n",
       "\n",
       "            tempo  Label  \n",
       "count  241.000000  241.0  \n",
       "mean   119.238618    0.0  \n",
       "std     22.744253    0.0  \n",
       "min     59.972000    0.0  \n",
       "25%    103.051000    0.0  \n",
       "50%    123.975000    0.0  \n",
       "75%    130.008000    0.0  \n",
       "max    192.754000    0.0  "
      ]
     },
     "execution_count": 139,
     "metadata": {},
     "output_type": "execute_result"
    }
   ],
   "source": [
    "df[df[\"Label\"]==0].describe()"
   ]
  },
  {
   "cell_type": "code",
   "execution_count": 140,
   "metadata": {},
   "outputs": [
    {
     "data": {
      "text/html": [
       "<div>\n",
       "<style scoped>\n",
       "    .dataframe tbody tr th:only-of-type {\n",
       "        vertical-align: middle;\n",
       "    }\n",
       "\n",
       "    .dataframe tbody tr th {\n",
       "        vertical-align: top;\n",
       "    }\n",
       "\n",
       "    .dataframe thead th {\n",
       "        text-align: right;\n",
       "    }\n",
       "</style>\n",
       "<table border=\"1\" class=\"dataframe\">\n",
       "  <thead>\n",
       "    <tr style=\"text-align: right;\">\n",
       "      <th></th>\n",
       "      <th>danceability</th>\n",
       "      <th>energy</th>\n",
       "      <th>key</th>\n",
       "      <th>loudness</th>\n",
       "      <th>mode</th>\n",
       "      <th>speechiness</th>\n",
       "      <th>acousticness</th>\n",
       "      <th>instrumentalness</th>\n",
       "      <th>liveness</th>\n",
       "      <th>valence</th>\n",
       "      <th>tempo</th>\n",
       "      <th>Label</th>\n",
       "    </tr>\n",
       "  </thead>\n",
       "  <tbody>\n",
       "    <tr>\n",
       "      <th>count</th>\n",
       "      <td>242.000000</td>\n",
       "      <td>242.000000</td>\n",
       "      <td>242.000000</td>\n",
       "      <td>242.000000</td>\n",
       "      <td>242.000000</td>\n",
       "      <td>242.000000</td>\n",
       "      <td>242.000000</td>\n",
       "      <td>242.000000</td>\n",
       "      <td>242.000000</td>\n",
       "      <td>242.000000</td>\n",
       "      <td>242.000000</td>\n",
       "      <td>242.0</td>\n",
       "    </tr>\n",
       "    <tr>\n",
       "      <th>mean</th>\n",
       "      <td>0.437119</td>\n",
       "      <td>3.547429</td>\n",
       "      <td>4.884298</td>\n",
       "      <td>-38.870494</td>\n",
       "      <td>0.723140</td>\n",
       "      <td>0.124441</td>\n",
       "      <td>0.461122</td>\n",
       "      <td>0.337093</td>\n",
       "      <td>0.193421</td>\n",
       "      <td>0.362002</td>\n",
       "      <td>108.793579</td>\n",
       "      <td>1.0</td>\n",
       "    </tr>\n",
       "    <tr>\n",
       "      <th>std</th>\n",
       "      <td>0.180317</td>\n",
       "      <td>47.151473</td>\n",
       "      <td>3.739861</td>\n",
       "      <td>419.864145</td>\n",
       "      <td>0.448374</td>\n",
       "      <td>0.123730</td>\n",
       "      <td>0.435720</td>\n",
       "      <td>0.416003</td>\n",
       "      <td>0.169509</td>\n",
       "      <td>0.246387</td>\n",
       "      <td>30.066923</td>\n",
       "      <td>0.0</td>\n",
       "    </tr>\n",
       "    <tr>\n",
       "      <th>min</th>\n",
       "      <td>0.084900</td>\n",
       "      <td>0.009790</td>\n",
       "      <td>0.000000</td>\n",
       "      <td>-6542.000000</td>\n",
       "      <td>0.000000</td>\n",
       "      <td>0.024300</td>\n",
       "      <td>0.000024</td>\n",
       "      <td>0.000000</td>\n",
       "      <td>0.022400</td>\n",
       "      <td>0.037700</td>\n",
       "      <td>44.777000</td>\n",
       "      <td>1.0</td>\n",
       "    </tr>\n",
       "    <tr>\n",
       "      <th>25%</th>\n",
       "      <td>0.295750</td>\n",
       "      <td>0.127250</td>\n",
       "      <td>1.000000</td>\n",
       "      <td>-19.207750</td>\n",
       "      <td>0.000000</td>\n",
       "      <td>0.038200</td>\n",
       "      <td>0.015850</td>\n",
       "      <td>0.000002</td>\n",
       "      <td>0.094600</td>\n",
       "      <td>0.140500</td>\n",
       "      <td>85.797000</td>\n",
       "      <td>1.0</td>\n",
       "    </tr>\n",
       "    <tr>\n",
       "      <th>50%</th>\n",
       "      <td>0.395000</td>\n",
       "      <td>0.591000</td>\n",
       "      <td>4.000000</td>\n",
       "      <td>-7.257500</td>\n",
       "      <td>1.000000</td>\n",
       "      <td>0.047850</td>\n",
       "      <td>0.292000</td>\n",
       "      <td>0.002740</td>\n",
       "      <td>0.130000</td>\n",
       "      <td>0.331000</td>\n",
       "      <td>100.239500</td>\n",
       "      <td>1.0</td>\n",
       "    </tr>\n",
       "    <tr>\n",
       "      <th>75%</th>\n",
       "      <td>0.560000</td>\n",
       "      <td>0.871000</td>\n",
       "      <td>8.000000</td>\n",
       "      <td>-4.512750</td>\n",
       "      <td>1.000000</td>\n",
       "      <td>0.186750</td>\n",
       "      <td>0.962000</td>\n",
       "      <td>0.865750</td>\n",
       "      <td>0.227000</td>\n",
       "      <td>0.566000</td>\n",
       "      <td>130.076250</td>\n",
       "      <td>1.0</td>\n",
       "    </tr>\n",
       "    <tr>\n",
       "      <th>max</th>\n",
       "      <td>0.918000</td>\n",
       "      <td>734.000000</td>\n",
       "      <td>11.000000</td>\n",
       "      <td>-0.300600</td>\n",
       "      <td>1.000000</td>\n",
       "      <td>0.484000</td>\n",
       "      <td>0.996000</td>\n",
       "      <td>0.994000</td>\n",
       "      <td>0.982000</td>\n",
       "      <td>0.963000</td>\n",
       "      <td>210.752000</td>\n",
       "      <td>1.0</td>\n",
       "    </tr>\n",
       "  </tbody>\n",
       "</table>\n",
       "</div>"
      ],
      "text/plain": [
       "       danceability      energy         key     loudness        mode  \\\n",
       "count    242.000000  242.000000  242.000000   242.000000  242.000000   \n",
       "mean       0.437119    3.547429    4.884298   -38.870494    0.723140   \n",
       "std        0.180317   47.151473    3.739861   419.864145    0.448374   \n",
       "min        0.084900    0.009790    0.000000 -6542.000000    0.000000   \n",
       "25%        0.295750    0.127250    1.000000   -19.207750    0.000000   \n",
       "50%        0.395000    0.591000    4.000000    -7.257500    1.000000   \n",
       "75%        0.560000    0.871000    8.000000    -4.512750    1.000000   \n",
       "max        0.918000  734.000000   11.000000    -0.300600    1.000000   \n",
       "\n",
       "       speechiness  acousticness  instrumentalness    liveness     valence  \\\n",
       "count   242.000000    242.000000        242.000000  242.000000  242.000000   \n",
       "mean      0.124441      0.461122          0.337093    0.193421    0.362002   \n",
       "std       0.123730      0.435720          0.416003    0.169509    0.246387   \n",
       "min       0.024300      0.000024          0.000000    0.022400    0.037700   \n",
       "25%       0.038200      0.015850          0.000002    0.094600    0.140500   \n",
       "50%       0.047850      0.292000          0.002740    0.130000    0.331000   \n",
       "75%       0.186750      0.962000          0.865750    0.227000    0.566000   \n",
       "max       0.484000      0.996000          0.994000    0.982000    0.963000   \n",
       "\n",
       "            tempo  Label  \n",
       "count  242.000000  242.0  \n",
       "mean   108.793579    1.0  \n",
       "std     30.066923    0.0  \n",
       "min     44.777000    1.0  \n",
       "25%     85.797000    1.0  \n",
       "50%    100.239500    1.0  \n",
       "75%    130.076250    1.0  \n",
       "max    210.752000    1.0  "
      ]
     },
     "execution_count": 140,
     "metadata": {},
     "output_type": "execute_result"
    }
   ],
   "source": [
    "df[df[\"Label\"]==1].describe()"
   ]
  },
  {
   "cell_type": "code",
   "execution_count": 141,
   "metadata": {},
   "outputs": [],
   "source": [
    "idx1 = df[df['energy'] == 734].index\n",
    "idx2 = df[df['loudness'] == -6542].index\n",
    "\n",
    "df.drop(idx1, inplace = True, axis = 0)\n",
    "df.drop(idx2, inplace = True, axis = 0)"
   ]
  },
  {
   "cell_type": "code",
   "execution_count": 142,
   "metadata": {},
   "outputs": [
    {
     "data": {
      "image/png": "[encoded data removed]",
      "text/plain": [
       "<Figure size 432x288 with 1 Axes>"
      ]
     },
     "metadata": {
      "needs_background": "light"
     },
     "output_type": "display_data"
    },
    {
     "data": {
      "image/png": "[encoded data removed]",
      "text/plain": [
       "<Figure size 432x288 with 1 Axes>"
      ]
     },
     "metadata": {
      "needs_background": "light"
     },
     "output_type": "display_data"
    },
    {
     "data": {
      "image/png": "[encoded data removed]",
      "text/plain": [
       "<Figure size 432x288 with 1 Axes>"
      ]
     },
     "metadata": {
      "needs_background": "light"
     },
     "output_type": "display_data"
    },
    {
     "data": {
      "image/png": "[encoded data removed]",
      "text/plain": [
       "<Figure size 432x288 with 1 Axes>"
      ]
     },
     "metadata": {
      "needs_background": "light"
     },
     "output_type": "display_data"
    },
    {
     "data": {
      "image/png": "[encoded data removed]",
      "text/plain": [
       "<Figure size 432x288 with 1 Axes>"
      ]
     },
     "metadata": {
      "needs_background": "light"
     },
     "output_type": "display_data"
    },
    {
     "data": {
      "image/png": "[encoded data removed]",
      "text/plain": [
       "<Figure size 432x288 with 1 Axes>"
      ]
     },
     "metadata": {
      "needs_background": "light"
     },
     "output_type": "display_data"
    },
    {
     "data": {
      "image/png": "[encoded data removed]",
      "text/plain": [
       "<Figure size 432x288 with 1 Axes>"
      ]
     },
     "metadata": {
      "needs_background": "light"
     },
     "output_type": "display_data"
    },
    {
     "data": {
      "image/png": "[encoded data removed]",
      "text/plain": [
       "<Figure size 432x288 with 1 Axes>"
      ]
     },
     "metadata": {
      "needs_background": "light"
     },
     "output_type": "display_data"
    },
    {
     "data": {
      "image/png": "[encoded data removed]",
      "text/plain": [
       "<Figure size 432x288 with 1 Axes>"
      ]
     },
     "metadata": {
      "needs_background": "light"
     },
     "output_type": "display_data"
    },
    {
     "data": {
      "image/png": "[encoded data removed]",
      "text/plain": [
       "<Figure size 432x288 with 1 Axes>"
      ]
     },
     "metadata": {
      "needs_background": "light"
     },
     "output_type": "display_data"
    },
    {
     "data": {
      "image/png": "[encoded data removed]",
      "text/plain": [
       "<Figure size 432x288 with 1 Axes>"
      ]
     },
     "metadata": {
      "needs_background": "light"
     },
     "output_type": "display_data"
    }
   ],
   "source": [
    "for x in df.columns:\n",
    "    if x != \"Label\":\n",
    "        df.loc[df[\"Label\"]==0,x].plot.hist(alpha=0.5)\n",
    "        df.loc[df[\"Label\"]==1,x].plot.hist(alpha=0.5)\n",
    "        plt.legend([\"Dislike\", \"Like\"])\n",
    "        plt.title(x)\n",
    "        plt.show()"
   ]
  },
  {
   "cell_type": "code",
   "execution_count": 143,
   "metadata": {},
   "outputs": [
    {
     "data": {
      "image/png": "[encoded data removed]",
      "text/plain": [
       "<Figure size 432x576 with 2 Axes>"
      ]
     },
     "metadata": {
      "needs_background": "light"
     },
     "output_type": "display_data"
    }
   ],
   "source": [
    "plt.figure(figsize=(6,8))\n",
    "corr = df.corr()\n",
    "\n",
    "ax = sns.heatmap(\n",
    "    corr, \n",
    "    vmin=-1, vmax=1, center=0,\n",
    "    cmap=sns.diverging_palette(20, 220, n=200),\n",
    "    square=True\n",
    ")\n",
    "ax.set_xticklabels(\n",
    "    ax.get_xticklabels(),\n",
    "    rotation=45,\n",
    "    horizontalalignment='right'\n",
    ");"
   ]
  },
  {
   "cell_type": "code",
   "execution_count": 144,
   "metadata": {},
   "outputs": [],
   "source": [
    "y = df[\"Label\"]\n",
    "X = df.drop([\"Label\", \"loudness\", \"tempo\"], axis=1)\n",
    "# X = df[[\"danceability\", \"valence\", \"tempo\", \"loudness\"]]\n",
    "X_train, X_test, y_train, y_test = train_test_split(X, y, test_size=0.3, random_state=42)"
   ]
  },
  {
   "cell_type": "code",
   "execution_count": 145,
   "metadata": {},
   "outputs": [],
   "source": [
    "lr = LogisticRegression(random_state=42, solver='lbfgs').fit(X_train, y_train)\n",
    "predicted = lr.predict(X_test)"
   ]
  },
  {
   "cell_type": "code",
   "execution_count": 146,
   "metadata": {},
   "outputs": [],
   "source": [
    "# lr.predict_proba(X_test).round(3)"
   ]
  },
  {
   "cell_type": "code",
   "execution_count": 147,
   "metadata": {},
   "outputs": [
    {
     "data": {
      "text/plain": [
       "0.7655172413793103"
      ]
     },
     "execution_count": 147,
     "metadata": {},
     "output_type": "execute_result"
    }
   ],
   "source": [
    "accuracy_score(y_test, predicted)"
   ]
  }
 ],
 "metadata": {
  "kernelspec": {
   "display_name": "Python 3",
   "language": "python",
   "name": "python3"
  },
  "language_info": {
   "codemirror_mode": {
    "name": "ipython",
    "version": 3
   },
   "file_extension": ".py",
   "mimetype": "text/x-python",
   "name": "python",
   "nbconvert_exporter": "python",
   "pygments_lexer": "ipython3",
   "version": "3.8.3"
  }
 },
 "nbformat": 4,
 "nbformat_minor": 4
}
